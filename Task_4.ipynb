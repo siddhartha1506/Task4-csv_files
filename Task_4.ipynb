{
  "cells": [
    {
      "cell_type": "markdown",
      "metadata": {
        "id": "view-in-github",
        "colab_type": "text"
      },
      "source": [
        "<a href=\"https://colab.research.google.com/github/siddhartha1506/Task4-csv_files/blob/main/Task_4.ipynb\" target=\"_parent\"><img src=\"https://colab.research.google.com/assets/colab-badge.svg\" alt=\"Open In Colab\"/></a>"
      ]
    },
    {
      "cell_type": "markdown",
      "metadata": {
        "id": "JRCM4gnZ9skf"
      },
      "source": [
        "###### Assessment"
      ]
    },
    {
      "cell_type": "markdown",
      "metadata": {
        "id": "jzuuvrpf9sko"
      },
      "source": [
        "###### I am going to provide two .csv files , you are supposed to work on them and have to provide solutions to the following problems"
      ]
    },
    {
      "cell_type": "markdown",
      "metadata": {
        "id": "R6zhu-EY9skq"
      },
      "source": [
        "###### import necessary libraries"
      ]
    },
    {
      "cell_type": "code",
      "execution_count": null,
      "metadata": {
        "id": "GuA3FerC9skr"
      },
      "outputs": [],
      "source": [
        "import pandas as pd"
      ]
    },
    {
      "cell_type": "markdown",
      "metadata": {
        "id": "51ZXHlD_9sks"
      },
      "source": [
        "###### merge those two csv files (after getting as dataframes, get them as a single dataframe)"
      ]
    },
    {
      "cell_type": "code",
      "execution_count": null,
      "metadata": {
        "id": "dx_IMxBx9skt"
      },
      "outputs": [],
      "source": [
        "import pandas as pd\n",
        "df1=pd.read_csv('college_1.csv')\n",
        "df2=pd.read_csv('college_2.csv')\n",
        "df=pd.concat([df1,df2],axis=0,ignore_index=True)\n",
        "print(df)"
      ]
    },
    {
      "cell_type": "markdown",
      "metadata": {
        "id": "BSPOyGIf9sku"
      },
      "source": [
        "###### Take each csv file , split that csv file into multiple categories (example csv files are added in the repo) \n"
      ]
    },
    {
      "cell_type": "markdown",
      "metadata": {
        "id": "srezcXWk9skw"
      },
      "source": [
        "###### consider if the codekata score exceeds 15000 points(present week) then make a csv on those observations as Exceeded expectations.csv\n"
      ]
    },
    {
      "cell_type": "markdown",
      "metadata": {
        "id": "QyTXQd7i9skx"
      },
      "source": [
        "###### if  10000<codekata score<15000   (Reached_expectations.csv)\n",
        "\n"
      ]
    },
    {
      "cell_type": "markdown",
      "metadata": {
        "id": "tWAeV-Dx9skz"
      },
      "source": [
        "###### if  7000<codekata score<10000   (Needs_Improvement.csv)\n"
      ]
    },
    {
      "cell_type": "markdown",
      "metadata": {
        "id": "UyFJZDnL9skz"
      },
      "source": [
        "###### if  codekate score < 7000        (Unsatisfactory.csv)"
      ]
    },
    {
      "cell_type": "code",
      "execution_count": null,
      "metadata": {
        "id": "1yueny3X9sk0"
      },
      "outputs": [],
      "source": [
        "ee=df[df['CodeKata Score']>15000]\n",
        "ee.to_csv('Exceeded expectations.csv')\n",
        "re=df[(df['CodeKata Score']<15000) & (df['CodeKata Score']>10000)]\n",
        "re.to_csv('Reached_expectations.csv')\n",
        "ni=df[(df['CodeKata Score']<10000) & (df['CodeKata Score']>7000)]\n",
        "ni.to_csv('Needs_Improvement.csv')\n",
        "us=df[df['CodeKata Score']<7000]\n",
        "us.to_csv('Unsatisfactory.csv')"
      ]
    },
    {
      "cell_type": "markdown",
      "metadata": {
        "id": "-D1PPQqr9sk1"
      },
      "source": [
        "###### Average of previous week geekions vs this week geekions (i.e Previous Geekions vs CodeKata Score)"
      ]
    },
    {
      "cell_type": "code",
      "execution_count": null,
      "metadata": {
        "id": "Pe7y5dX_9sk2"
      },
      "outputs": [],
      "source": [
        "avg1= df['Previous Geekions'].mean()\n",
        "print('average of previous week geekions',avg1)\n",
        "avg2= df['CodeKata Score'].mean()\n",
        "print('average of this week geekions',avg2)"
      ]
    },
    {
      "cell_type": "markdown",
      "metadata": {
        "id": "neekQQ0Q9sk3"
      },
      "source": [
        "###### No of students participated "
      ]
    },
    {
      "cell_type": "code",
      "execution_count": null,
      "metadata": {
        "id": "0l0fNzQs9sk3"
      },
      "outputs": [],
      "source": [
        "print(df['Name'].count())"
      ]
    },
    {
      "cell_type": "markdown",
      "metadata": {
        "id": "0brPcp-19sk3"
      },
      "source": [
        "###### #Average completion of python course or my_sql or python english or computational thinking"
      ]
    },
    {
      "cell_type": "code",
      "execution_count": null,
      "metadata": {
        "id": "laPzB4VR9sk4"
      },
      "outputs": [],
      "source": [
        "#Average completion of computational thinking\n",
        "completed_computational_thinking=df[~df['computational_thinking'].isnull()]\n",
        "avg_comp_comp_think=completed_computational_thinking['Name'].count()/df['Name'].count()\n",
        "print(avg_comp_comp_think*100,'%')"
      ]
    },
    {
      "cell_type": "markdown",
      "metadata": {
        "id": "BtEDcgz-9sk4"
      },
      "source": [
        "###### rising star of the week (top 3 candidate who performed well in that particular week)"
      ]
    },
    {
      "cell_type": "code",
      "execution_count": null,
      "metadata": {
        "id": "ybEps8US9sk5"
      },
      "outputs": [],
      "source": [
        "rising_star_of_the_week=df.sort_values(by='CodeKata Score',ascending=False)\n",
        "print(rising_star_of_the_week.head(3))"
      ]
    },
    {
      "cell_type": "markdown",
      "metadata": {
        "id": "LfJjlZ-L9sk5"
      },
      "source": [
        "###### Shining stars of the week (top 3 candidates who has highest geekions)"
      ]
    },
    {
      "cell_type": "code",
      "execution_count": null,
      "metadata": {
        "id": "dCiRDYl59sk6"
      },
      "outputs": [],
      "source": [
        "shining_star_of_the_week=df.sort_values(by='Previous Geekions',ascending=False)\n",
        "print(shining_star_of_the_week.head(3))"
      ]
    },
    {
      "cell_type": "markdown",
      "metadata": {
        "id": "3-ptK9K_9sk6"
      },
      "source": [
        "###### Department wise codekata performence (pie chart)"
      ]
    },
    {
      "cell_type": "code",
      "execution_count": null,
      "metadata": {
        "id": "0oBeBLkw9sk7"
      },
      "outputs": [],
      "source": [
        "import pandas as pd\n",
        "import matplotlib.pyplot as plt\n",
        "df1=pd.read_csv('college_1.csv')\n",
        "df2=pd.read_csv('college_2.csv')\n",
        "df=pd.concat([df1,df2],axis=0,ignore_index=True)\n",
        "dept_codekata_performance=df.groupby('Department')['CodeKata Score'].sum()\n",
        "department=df.Department.unique()\n",
        "total_score=dept_codekata_performance\n",
        "plt.pie(total_score,labels=department,autopct='%1.2f%%')\n",
        "plt.title('Department wise codekata performence')\n",
        "plt.show()"
      ]
    },
    {
      "cell_type": "markdown",
      "metadata": {
        "id": "qYARerU_9sk7"
      },
      "source": [
        "###### Department wise toppers (horizantal bar graph or any visual representations of your choice)"
      ]
    },
    {
      "cell_type": "code",
      "execution_count": null,
      "metadata": {
        "id": "nETNB2SM9sk8"
      },
      "outputs": [],
      "source": [
        "import pandas as pd\n",
        "df1=pd.read_csv('college_1.csv')\n",
        "df2=pd.read_csv('college_2.csv')\n",
        "df=pd.concat([df1,df2],axis=0,ignore_index=True)\n",
        "rank=df.sort_values(by='CodeKata Score',ascending=False)\n",
        "dup=rank.drop_duplicates(subset=['Department'])\n",
        "y1=dup['Previous Geekions'].values\n",
        "y2=dup['CodeKata Score'].values\n",
        "y3=dup['python'].values\n",
        "y4=dup['mysql'].values\n",
        "x=dup['Name']\n",
        "df=pd.DataFrame({'Previous Geekions':y1,\n",
        "                   'CodeKata Score':y2,'python':y3,'mysql':y4},index=x)\n",
        "hb1=df.plot.barh(y='Previous Geekions',rot=0)\n",
        "hb1=df.plot.barh(y='CodeKata Score',rot=0)\n",
        "hb1=df.plot.barh(y='python',rot=0)\n",
        "hb1=df.plot.barh(y='mysql',rot=0)"
      ]
    }
  ],
  "metadata": {
    "kernelspec": {
      "display_name": "Python 3",
      "language": "python",
      "name": "python3"
    },
    "language_info": {
      "codemirror_mode": {
        "name": "ipython",
        "version": 3
      },
      "file_extension": ".py",
      "mimetype": "text/x-python",
      "name": "python",
      "nbconvert_exporter": "python",
      "pygments_lexer": "ipython3",
      "version": "3.8.3"
    },
    "colab": {
      "provenance": [],
      "collapsed_sections": [],
      "include_colab_link": true
    }
  },
  "nbformat": 4,
  "nbformat_minor": 0
}